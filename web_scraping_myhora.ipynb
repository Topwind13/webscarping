{
  "cells": [
    {
      "cell_type": "markdown",
      "metadata": {
        "id": "LWk7afMg3mH_"
      },
      "source": [
        "# Assignment: Extracting Static WebPage\n",
        "\n",
        "Extract information about “วันพระ” for 3 years from:\n",
        "- https://www.myhora.com/ปฏิทิน/วันพระ-พ.ศ.2563.aspx\n",
        "- https://www.myhora.com/ปฏิทิน/วันพระ-พ.ศ.2564.aspx\n",
        "- https://www.myhora.com/ปฏิทิน/วันพระ-พ.ศ.2565.aspx\n"
      ]
    },
    {
      "cell_type": "markdown",
      "metadata": {
        "id": "RFUHHUPf3mIB"
      },
      "source": [
        "Note that you can use dateparse package to parse Thai date.  First, we will have to install the package, this is for Google Colab users.  Otherwise, installing via command line is recommended (pip or conda)."
      ]
    },
    {
      "cell_type": "code",
      "execution_count": null,
      "metadata": {
        "scrolled": true,
        "id": "03cVN8HM3mIC"
      },
      "outputs": [],
      "source": [
        "import sys\n",
        "\n",
        "url_list = [\n",
        "    'https://www.myhora.com/ปฏิทิน/วันพระ-พ.ศ.2563.aspx', \n",
        "    'https://www.myhora.com/ปฏิทิน/วันพระ-พ.ศ.2564.aspx',\n",
        "    'https://www.myhora.com/ปฏิทิน/วันพระ-พ.ศ.2565.aspx'\n",
        "]\n",
        "\n",
        "import os\n",
        "IN_COLAB = 'google.colab' in sys.modules\n",
        "if IN_COLAB:\n",
        "    %pip install dateparser\n",
        "    for i in range(len(url_list)):\n",
        "      os.system('wget {} -O {}.html'.format(url_list[i],i))"
      ]
    },
    {
      "cell_type": "markdown",
      "metadata": {
        "id": "2Zpu-h8O3mID"
      },
      "source": [
        "To convert from thai text date string, we will use the parse method.  Note that the parse method assumes the BC year, not BE.  Thus, we will have to subtract 543 from the year.  In addition, weekday() returns day of week with 0=Monday, ..., 6=Sunday."
      ]
    },
    {
      "cell_type": "code",
      "source": [
        "import dateparser\n",
        "from bs4 import BeautifulSoup\n",
        "from bs4.element import Tag\n",
        "from IPython.core.display import HTML"
      ],
      "metadata": {
        "id": "ZGBf-x_BOvo2"
      },
      "execution_count": null,
      "outputs": []
    },
    {
      "cell_type": "code",
      "execution_count": null,
      "metadata": {
        "id": "p_agjSeh3mID"
      },
      "outputs": [],
      "source": [
        "def get_day_of_week(date_str):\n",
        "  dt = dateparser.parse(date_str) # 'วันเสาร์ที่ 24 กันยายน 2565'\n",
        "  dt = dt.replace(year=dt.year-543)\n",
        "  return dt.weekday()"
      ]
    },
    {
      "cell_type": "markdown",
      "metadata": {
        "id": "ELy1AXIo3mIE"
      },
      "source": [
        "Count the distribution of number of week days that are “วันพระ” for all three years and answer the following questions:"
      ]
    },
    {
      "cell_type": "code",
      "source": [
        "def get_date_list(s):\n",
        "  with open(s) as f:\n",
        "    html = f.read()\n",
        "  soup = BeautifulSoup(html, \"lxml\")\n",
        "  date_list = []\n",
        "  for div in soup.find_all('div',{'class': 'bud-day'}):\n",
        "    for y in div.find('div'):\n",
        "      date_list.append(y)\n",
        "  return date_list"
      ],
      "metadata": {
        "id": "k0Aqo6m2Ohnh"
      },
      "execution_count": null,
      "outputs": []
    },
    {
      "cell_type": "code",
      "source": [
        "date_list = []\n",
        "for i in range(3):\n",
        "  date_list += get_date_list('{}.html'.format(i))\n",
        "date_list"
      ],
      "metadata": {
        "id": "_al3M7dBUC7l"
      },
      "execution_count": null,
      "outputs": []
    },
    {
      "cell_type": "code",
      "source": [
        "import numpy as np\n",
        "import pandas as pd\n",
        "df = pd.DataFrame(date_list, columns=['date'])\n",
        "df['weekday'] = df['date'].apply(get_day_of_week)\n",
        "df.head()"
      ],
      "metadata": {
        "colab": {
          "base_uri": "https://localhost:8080/",
          "height": 206
        },
        "id": "HKtl2AffVniJ",
        "outputId": "48e9239d-9cb5-429f-ed1c-37ee480ec248"
      },
      "execution_count": null,
      "outputs": [
        {
          "output_type": "execute_result",
          "data": {
            "text/plain": [
              "                            date  weekday\n",
              "0   วันพฤหัสบดีที่ 2 มกราคม 2563        3\n",
              "1   วันพฤหัสบดีที่ 9 มกราคม 2563        3\n",
              "2     วันศุกร์ที่ 17 มกราคม 2563        4\n",
              "3     วันศุกร์ที่ 24 มกราคม 2563        4\n",
              "4  วันเสาร์ที่ 1 กุมภาพันธ์ 2563        5"
            ],
            "text/html": [
              "\n",
              "  <div id=\"df-c5b8b83b-1a0e-4556-a419-e684d385f9bd\">\n",
              "    <div class=\"colab-df-container\">\n",
              "      <div>\n",
              "<style scoped>\n",
              "    .dataframe tbody tr th:only-of-type {\n",
              "        vertical-align: middle;\n",
              "    }\n",
              "\n",
              "    .dataframe tbody tr th {\n",
              "        vertical-align: top;\n",
              "    }\n",
              "\n",
              "    .dataframe thead th {\n",
              "        text-align: right;\n",
              "    }\n",
              "</style>\n",
              "<table border=\"1\" class=\"dataframe\">\n",
              "  <thead>\n",
              "    <tr style=\"text-align: right;\">\n",
              "      <th></th>\n",
              "      <th>date</th>\n",
              "      <th>weekday</th>\n",
              "    </tr>\n",
              "  </thead>\n",
              "  <tbody>\n",
              "    <tr>\n",
              "      <th>0</th>\n",
              "      <td>วันพฤหัสบดีที่ 2 มกราคม 2563</td>\n",
              "      <td>3</td>\n",
              "    </tr>\n",
              "    <tr>\n",
              "      <th>1</th>\n",
              "      <td>วันพฤหัสบดีที่ 9 มกราคม 2563</td>\n",
              "      <td>3</td>\n",
              "    </tr>\n",
              "    <tr>\n",
              "      <th>2</th>\n",
              "      <td>วันศุกร์ที่ 17 มกราคม 2563</td>\n",
              "      <td>4</td>\n",
              "    </tr>\n",
              "    <tr>\n",
              "      <th>3</th>\n",
              "      <td>วันศุกร์ที่ 24 มกราคม 2563</td>\n",
              "      <td>4</td>\n",
              "    </tr>\n",
              "    <tr>\n",
              "      <th>4</th>\n",
              "      <td>วันเสาร์ที่ 1 กุมภาพันธ์ 2563</td>\n",
              "      <td>5</td>\n",
              "    </tr>\n",
              "  </tbody>\n",
              "</table>\n",
              "</div>\n",
              "      <button class=\"colab-df-convert\" onclick=\"convertToInteractive('df-c5b8b83b-1a0e-4556-a419-e684d385f9bd')\"\n",
              "              title=\"Convert this dataframe to an interactive table.\"\n",
              "              style=\"display:none;\">\n",
              "        \n",
              "  <svg xmlns=\"http://www.w3.org/2000/svg\" height=\"24px\"viewBox=\"0 0 24 24\"\n",
              "       width=\"24px\">\n",
              "    <path d=\"M0 0h24v24H0V0z\" fill=\"none\"/>\n",
              "    <path d=\"M18.56 5.44l.94 2.06.94-2.06 2.06-.94-2.06-.94-.94-2.06-.94 2.06-2.06.94zm-11 1L8.5 8.5l.94-2.06 2.06-.94-2.06-.94L8.5 2.5l-.94 2.06-2.06.94zm10 10l.94 2.06.94-2.06 2.06-.94-2.06-.94-.94-2.06-.94 2.06-2.06.94z\"/><path d=\"M17.41 7.96l-1.37-1.37c-.4-.4-.92-.59-1.43-.59-.52 0-1.04.2-1.43.59L10.3 9.45l-7.72 7.72c-.78.78-.78 2.05 0 2.83L4 21.41c.39.39.9.59 1.41.59.51 0 1.02-.2 1.41-.59l7.78-7.78 2.81-2.81c.8-.78.8-2.07 0-2.86zM5.41 20L4 18.59l7.72-7.72 1.47 1.35L5.41 20z\"/>\n",
              "  </svg>\n",
              "      </button>\n",
              "      \n",
              "  <style>\n",
              "    .colab-df-container {\n",
              "      display:flex;\n",
              "      flex-wrap:wrap;\n",
              "      gap: 12px;\n",
              "    }\n",
              "\n",
              "    .colab-df-convert {\n",
              "      background-color: #E8F0FE;\n",
              "      border: none;\n",
              "      border-radius: 50%;\n",
              "      cursor: pointer;\n",
              "      display: none;\n",
              "      fill: #1967D2;\n",
              "      height: 32px;\n",
              "      padding: 0 0 0 0;\n",
              "      width: 32px;\n",
              "    }\n",
              "\n",
              "    .colab-df-convert:hover {\n",
              "      background-color: #E2EBFA;\n",
              "      box-shadow: 0px 1px 2px rgba(60, 64, 67, 0.3), 0px 1px 3px 1px rgba(60, 64, 67, 0.15);\n",
              "      fill: #174EA6;\n",
              "    }\n",
              "\n",
              "    [theme=dark] .colab-df-convert {\n",
              "      background-color: #3B4455;\n",
              "      fill: #D2E3FC;\n",
              "    }\n",
              "\n",
              "    [theme=dark] .colab-df-convert:hover {\n",
              "      background-color: #434B5C;\n",
              "      box-shadow: 0px 1px 3px 1px rgba(0, 0, 0, 0.15);\n",
              "      filter: drop-shadow(0px 1px 2px rgba(0, 0, 0, 0.3));\n",
              "      fill: #FFFFFF;\n",
              "    }\n",
              "  </style>\n",
              "\n",
              "      <script>\n",
              "        const buttonEl =\n",
              "          document.querySelector('#df-c5b8b83b-1a0e-4556-a419-e684d385f9bd button.colab-df-convert');\n",
              "        buttonEl.style.display =\n",
              "          google.colab.kernel.accessAllowed ? 'block' : 'none';\n",
              "\n",
              "        async function convertToInteractive(key) {\n",
              "          const element = document.querySelector('#df-c5b8b83b-1a0e-4556-a419-e684d385f9bd');\n",
              "          const dataTable =\n",
              "            await google.colab.kernel.invokeFunction('convertToInteractive',\n",
              "                                                     [key], {});\n",
              "          if (!dataTable) return;\n",
              "\n",
              "          const docLinkHtml = 'Like what you see? Visit the ' +\n",
              "            '<a target=\"_blank\" href=https://colab.research.google.com/notebooks/data_table.ipynb>data table notebook</a>'\n",
              "            + ' to learn more about interactive tables.';\n",
              "          element.innerHTML = '';\n",
              "          dataTable['output_type'] = 'display_data';\n",
              "          await google.colab.output.renderOutput(dataTable, element);\n",
              "          const docLink = document.createElement('div');\n",
              "          docLink.innerHTML = docLinkHtml;\n",
              "          element.appendChild(docLink);\n",
              "        }\n",
              "      </script>\n",
              "    </div>\n",
              "  </div>\n",
              "  "
            ]
          },
          "metadata": {},
          "execution_count": 122
        }
      ]
    },
    {
      "cell_type": "markdown",
      "metadata": {
        "id": "h6rk9nOr3mIE"
      },
      "source": [
        "## How many วันพระ in total (of 3 years)?"
      ]
    },
    {
      "cell_type": "code",
      "execution_count": null,
      "metadata": {
        "id": "lJxXmFT83mIF",
        "colab": {
          "base_uri": "https://localhost:8080/"
        },
        "outputId": "5479af1b-1ce6-432d-9e6e-14bbddac2923"
      },
      "outputs": [
        {
          "output_type": "execute_result",
          "data": {
            "text/plain": [
              "152"
            ]
          },
          "metadata": {},
          "execution_count": 112
        }
      ],
      "source": [
        "df.shape[0]"
      ]
    },
    {
      "cell_type": "markdown",
      "metadata": {
        "id": "fDoUr5M33mIF"
      },
      "source": [
        "## How many days in total (of 3 years) that วันพระ is Sunday?"
      ]
    },
    {
      "cell_type": "code",
      "execution_count": null,
      "metadata": {
        "id": "1b9dL8iB3mIF",
        "colab": {
          "base_uri": "https://localhost:8080/"
        },
        "outputId": "0daa883e-435c-41c6-99a8-82f3321497d7"
      },
      "outputs": [
        {
          "output_type": "execute_result",
          "data": {
            "text/plain": [
              "21"
            ]
          },
          "metadata": {},
          "execution_count": 117
        }
      ],
      "source": [
        "len(df[df['weekday']== 6])"
      ]
    },
    {
      "cell_type": "markdown",
      "metadata": {
        "id": "QtvwkWOp3mIF"
      },
      "source": [
        "## Which day of the week that has the minimum number of วันพระ?"
      ]
    },
    {
      "cell_type": "code",
      "execution_count": null,
      "metadata": {
        "id": "N7dDNYaC3mIF",
        "colab": {
          "base_uri": "https://localhost:8080/"
        },
        "outputId": "b21d0a6a-72f9-4c2e-c1ff-ece26371aee4"
      },
      "outputs": [
        {
          "output_type": "execute_result",
          "data": {
            "text/plain": [
              "3    24\n",
              "4    22\n",
              "0    22\n",
              "1    22\n",
              "6    21\n",
              "2    21\n",
              "5    20\n",
              "Name: weekday, dtype: int64"
            ]
          },
          "metadata": {},
          "execution_count": 121
        }
      ],
      "source": [
        "df['weekday'].value_counts()"
      ]
    },
    {
      "cell_type": "markdown",
      "source": [
        "วันเสาร์"
      ],
      "metadata": {
        "id": "wIyBV2oZZ-m8"
      }
    },
    {
      "cell_type": "markdown",
      "metadata": {
        "id": "CXtvO_Ak3mIF"
      },
      "source": [
        "## Which day of the week that has the maximum number of วันพระ?"
      ]
    },
    {
      "cell_type": "markdown",
      "source": [
        "วันพฤหัสบดี"
      ],
      "metadata": {
        "id": "CORdMexDaEYG"
      }
    }
  ],
  "metadata": {
    "kernelspec": {
      "display_name": "Python 3 (ipykernel)",
      "language": "python",
      "name": "python3"
    },
    "language_info": {
      "codemirror_mode": {
        "name": "ipython",
        "version": 3
      },
      "file_extension": ".py",
      "mimetype": "text/x-python",
      "name": "python",
      "nbconvert_exporter": "python",
      "pygments_lexer": "ipython3",
      "version": "3.9.7"
    },
    "toc": {
      "base_numbering": 1,
      "nav_menu": {},
      "number_sections": true,
      "sideBar": true,
      "skip_h1_title": false,
      "title_cell": "Table of Contents",
      "title_sidebar": "Contents",
      "toc_cell": false,
      "toc_position": {},
      "toc_section_display": true,
      "toc_window_display": false
    },
    "varInspector": {
      "cols": {
        "lenName": 16,
        "lenType": 16,
        "lenVar": 40
      },
      "kernels_config": {
        "python": {
          "delete_cmd_postfix": "",
          "delete_cmd_prefix": "del ",
          "library": "var_list.py",
          "varRefreshCmd": "print(var_dic_list())"
        },
        "r": {
          "delete_cmd_postfix": ") ",
          "delete_cmd_prefix": "rm(",
          "library": "var_list.r",
          "varRefreshCmd": "cat(var_dic_list()) "
        }
      },
      "types_to_exclude": [
        "module",
        "function",
        "builtin_function_or_method",
        "instance",
        "_Feature"
      ],
      "window_display": false
    },
    "colab": {
      "provenance": []
    }
  },
  "nbformat": 4,
  "nbformat_minor": 0
}